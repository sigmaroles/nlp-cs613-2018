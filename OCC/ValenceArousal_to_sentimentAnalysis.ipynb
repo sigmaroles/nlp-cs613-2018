{
 "cells": [
  {
   "cell_type": "code",
   "execution_count": 1,
   "metadata": {},
   "outputs": [],
   "source": [
    "import pandas as pd\n",
    "import gensim\n",
    "from sklearn.linear_model import LinearRegression\n",
    "import numpy as np"
   ]
  },
  {
   "cell_type": "code",
   "execution_count": 2,
   "metadata": {},
   "outputs": [
    {
     "data": {
      "text/html": [
       "<div>\n",
       "<style scoped>\n",
       "    .dataframe tbody tr th:only-of-type {\n",
       "        vertical-align: middle;\n",
       "    }\n",
       "\n",
       "    .dataframe tbody tr th {\n",
       "        vertical-align: top;\n",
       "    }\n",
       "\n",
       "    .dataframe thead th {\n",
       "        text-align: right;\n",
       "    }\n",
       "</style>\n",
       "<table border=\"1\" class=\"dataframe\">\n",
       "  <thead>\n",
       "    <tr style=\"text-align: right;\">\n",
       "      <th></th>\n",
       "      <th>word</th>\n",
       "      <th>valence</th>\n",
       "      <th>valence_sd</th>\n",
       "      <th>arousal</th>\n",
       "      <th>arousal_sd</th>\n",
       "      <th>dominance</th>\n",
       "      <th>dominance_sd</th>\n",
       "    </tr>\n",
       "  </thead>\n",
       "  <tbody>\n",
       "    <tr>\n",
       "      <th>0</th>\n",
       "      <td>abandon</td>\n",
       "      <td>2.36</td>\n",
       "      <td>1.65</td>\n",
       "      <td>4.66</td>\n",
       "      <td>2.61</td>\n",
       "      <td>3.45</td>\n",
       "      <td>2.44</td>\n",
       "    </tr>\n",
       "    <tr>\n",
       "      <th>1</th>\n",
       "      <td>abduction</td>\n",
       "      <td>2.76</td>\n",
       "      <td>2.06</td>\n",
       "      <td>5.53</td>\n",
       "      <td>2.43</td>\n",
       "      <td>3.49</td>\n",
       "      <td>2.38</td>\n",
       "    </tr>\n",
       "    <tr>\n",
       "      <th>2</th>\n",
       "      <td>able</td>\n",
       "      <td>6.74</td>\n",
       "      <td>2.00</td>\n",
       "      <td>4.30</td>\n",
       "      <td>2.17</td>\n",
       "      <td>6.83</td>\n",
       "      <td>2.04</td>\n",
       "    </tr>\n",
       "    <tr>\n",
       "      <th>3</th>\n",
       "      <td>abortion</td>\n",
       "      <td>3.50</td>\n",
       "      <td>2.30</td>\n",
       "      <td>5.39</td>\n",
       "      <td>2.80</td>\n",
       "      <td>4.59</td>\n",
       "      <td>2.54</td>\n",
       "    </tr>\n",
       "    <tr>\n",
       "      <th>4</th>\n",
       "      <td>abrupt</td>\n",
       "      <td>4.22</td>\n",
       "      <td>1.50</td>\n",
       "      <td>4.95</td>\n",
       "      <td>2.16</td>\n",
       "      <td>4.78</td>\n",
       "      <td>1.88</td>\n",
       "    </tr>\n",
       "  </tbody>\n",
       "</table>\n",
       "</div>"
      ],
      "text/plain": [
       "        word  valence  valence_sd  arousal  arousal_sd  dominance  \\\n",
       "0    abandon     2.36        1.65     4.66        2.61       3.45   \n",
       "1  abduction     2.76        2.06     5.53        2.43       3.49   \n",
       "2       able     6.74        2.00     4.30        2.17       6.83   \n",
       "3   abortion     3.50        2.30     5.39        2.80       4.59   \n",
       "4     abrupt     4.22        1.50     4.95        2.16       4.78   \n",
       "\n",
       "   dominance_sd  \n",
       "0          2.44  \n",
       "1          2.38  \n",
       "2          2.04  \n",
       "3          2.54  \n",
       "4          1.88  "
      ]
     },
     "execution_count": 2,
     "metadata": {},
     "output_type": "execute_result"
    }
   ],
   "source": [
    "df = pd.read_csv('anew2017_data.csv', usecols = [0,2,3,4,5,6,7])\n",
    "rating_matrix = df.set_index('word').T.to_dict(orient='list')\n",
    "df.head()"
   ]
  },
  {
   "cell_type": "code",
   "execution_count": null,
   "metadata": {},
   "outputs": [],
   "source": []
  },
  {
   "cell_type": "code",
   "execution_count": null,
   "metadata": {},
   "outputs": [],
   "source": []
  },
  {
   "cell_type": "code",
   "execution_count": null,
   "metadata": {},
   "outputs": [],
   "source": []
  },
  {
   "cell_type": "code",
   "execution_count": 3,
   "metadata": {},
   "outputs": [],
   "source": [
    "# http://mccormickml.com/2016/04/12/googles-pretrained-word2vec-model-in-python/\n",
    "# https://stackoverflow.com/questions/50478046/memory-error-when-using-gensim-for-loading-word2vec"
   ]
  },
  {
   "cell_type": "code",
   "execution_count": 4,
   "metadata": {},
   "outputs": [],
   "source": [
    "wv_model = gensim.models.KeyedVectors.load_word2vec_format('./GoogleNews-vectors-negative300.bin', binary=True, limit=999900)"
   ]
  },
  {
   "cell_type": "code",
   "execution_count": 5,
   "metadata": {},
   "outputs": [
    {
     "data": {
      "text/plain": [
       "(3181, 999900, 3188)"
      ]
     },
     "execution_count": 5,
     "metadata": {},
     "output_type": "execute_result"
    }
   ],
   "source": [
    "wvec_words = set(wv_model.vocab.keys())\n",
    "senti_words = set(rating_matrix.keys())\n",
    "common_words = wvec_words.intersection(senti_words)\n",
    "len(common_words), len(wvec_words), len(senti_words)"
   ]
  },
  {
   "cell_type": "code",
   "execution_count": 7,
   "metadata": {},
   "outputs": [
    {
     "data": {
      "text/plain": [
       "((3181, 6), (3181, 300))"
      ]
     },
     "execution_count": 7,
     "metadata": {},
     "output_type": "execute_result"
    }
   ],
   "source": [
    "dataX = [wv_model[word] for word in common_words]\n",
    "dataY = [rating_matrix[word] for word in common_words]\n",
    "dataX = np.array(dataX)\n",
    "dataY = np.array(dataY)\n",
    "dataY.shape, dataX.shape"
   ]
  },
  {
   "cell_type": "code",
   "execution_count": 8,
   "metadata": {},
   "outputs": [
    {
     "data": {
      "text/plain": [
       "LinearRegression(copy_X=True, fit_intercept=True, n_jobs=None,\n",
       "         normalize=False)"
      ]
     },
     "execution_count": 8,
     "metadata": {},
     "output_type": "execute_result"
    }
   ],
   "source": [
    "regrModel= LinearRegression()\n",
    "regrModel.fit(dataX,dataY)"
   ]
  },
  {
   "cell_type": "code",
   "execution_count": 12,
   "metadata": {},
   "outputs": [
    {
     "name": "stdout",
     "output_type": "stream",
     "text": [
      "0.2860 is the RMS error for abrupt\n",
      "0.3683 is the RMS error for bargain\n",
      "0.7115 is the RMS error for home\n",
      "0.3406 is the RMS error for baseball\n",
      "0.4422 is the RMS error for stink\n",
      "0.7115 is the RMS error for home\n"
     ]
    }
   ],
   "source": [
    "twords = ['abrupt', 'absolute', 'bargain', 'clobber', 'home', 'premium', 'baseball', 'stink', 'home']\n",
    "for tword in twords:\n",
    "    if tword in rating_matrix:\n",
    "        test_x = wv_model[tword]\n",
    "        test_y = rating_matrix[tword]\n",
    "        pred_y = regrModel.predict(test_x.reshape(1,-1))\n",
    "        rmse = np.sqrt(((pred_y - test_y)**2).mean())\n",
    "        print (\"{0:.4f} is the RMS error for {1}\".format(rmse, tword))\n",
    "    else:\n",
    "        pass\n",
    "        #print (\"\\\"{}\\\" not found in ANEW dataset\".format(tword))"
   ]
  },
  {
   "cell_type": "code",
   "execution_count": null,
   "metadata": {},
   "outputs": [],
   "source": []
  }
 ],
 "metadata": {
  "kernelspec": {
   "display_name": "Python 3",
   "language": "python",
   "name": "python3"
  },
  "language_info": {
   "codemirror_mode": {
    "name": "ipython",
    "version": 3
   },
   "file_extension": ".py",
   "mimetype": "text/x-python",
   "name": "python",
   "nbconvert_exporter": "python",
   "pygments_lexer": "ipython3",
   "version": "3.5.5"
  }
 },
 "nbformat": 4,
 "nbformat_minor": 2
}
