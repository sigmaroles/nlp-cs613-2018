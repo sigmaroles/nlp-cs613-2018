{
 "cells": [
  {
   "cell_type": "code",
   "execution_count": 1,
   "metadata": {},
   "outputs": [],
   "source": [
    "import pandas as pd"
   ]
  },
  {
   "cell_type": "code",
   "execution_count": 2,
   "metadata": {},
   "outputs": [],
   "source": [
    "df = pd.read_csv('anew2017_data.csv', usecols = [0,2,3,4,5,6,7])"
   ]
  },
  {
   "cell_type": "code",
   "execution_count": 3,
   "metadata": {},
   "outputs": [
    {
     "data": {
      "text/html": [
       "<div>\n",
       "<style scoped>\n",
       "    .dataframe tbody tr th:only-of-type {\n",
       "        vertical-align: middle;\n",
       "    }\n",
       "\n",
       "    .dataframe tbody tr th {\n",
       "        vertical-align: top;\n",
       "    }\n",
       "\n",
       "    .dataframe thead th {\n",
       "        text-align: right;\n",
       "    }\n",
       "</style>\n",
       "<table border=\"1\" class=\"dataframe\">\n",
       "  <thead>\n",
       "    <tr style=\"text-align: right;\">\n",
       "      <th></th>\n",
       "      <th>word</th>\n",
       "      <th>valence</th>\n",
       "      <th>valence_sd</th>\n",
       "      <th>arousal</th>\n",
       "      <th>arousal_sd</th>\n",
       "      <th>dominance</th>\n",
       "      <th>dominance_sd</th>\n",
       "    </tr>\n",
       "  </thead>\n",
       "  <tbody>\n",
       "    <tr>\n",
       "      <th>0</th>\n",
       "      <td>abandon</td>\n",
       "      <td>2.36</td>\n",
       "      <td>1.65</td>\n",
       "      <td>4.66</td>\n",
       "      <td>2.61</td>\n",
       "      <td>3.45</td>\n",
       "      <td>2.44</td>\n",
       "    </tr>\n",
       "    <tr>\n",
       "      <th>1</th>\n",
       "      <td>abduction</td>\n",
       "      <td>2.76</td>\n",
       "      <td>2.06</td>\n",
       "      <td>5.53</td>\n",
       "      <td>2.43</td>\n",
       "      <td>3.49</td>\n",
       "      <td>2.38</td>\n",
       "    </tr>\n",
       "    <tr>\n",
       "      <th>2</th>\n",
       "      <td>able</td>\n",
       "      <td>6.74</td>\n",
       "      <td>2.00</td>\n",
       "      <td>4.30</td>\n",
       "      <td>2.17</td>\n",
       "      <td>6.83</td>\n",
       "      <td>2.04</td>\n",
       "    </tr>\n",
       "    <tr>\n",
       "      <th>3</th>\n",
       "      <td>abortion</td>\n",
       "      <td>3.50</td>\n",
       "      <td>2.30</td>\n",
       "      <td>5.39</td>\n",
       "      <td>2.80</td>\n",
       "      <td>4.59</td>\n",
       "      <td>2.54</td>\n",
       "    </tr>\n",
       "    <tr>\n",
       "      <th>4</th>\n",
       "      <td>abrupt</td>\n",
       "      <td>4.22</td>\n",
       "      <td>1.50</td>\n",
       "      <td>4.95</td>\n",
       "      <td>2.16</td>\n",
       "      <td>4.78</td>\n",
       "      <td>1.88</td>\n",
       "    </tr>\n",
       "  </tbody>\n",
       "</table>\n",
       "</div>"
      ],
      "text/plain": [
       "        word  valence  valence_sd  arousal  arousal_sd  dominance  \\\n",
       "0    abandon     2.36        1.65     4.66        2.61       3.45   \n",
       "1  abduction     2.76        2.06     5.53        2.43       3.49   \n",
       "2       able     6.74        2.00     4.30        2.17       6.83   \n",
       "3   abortion     3.50        2.30     5.39        2.80       4.59   \n",
       "4     abrupt     4.22        1.50     4.95        2.16       4.78   \n",
       "\n",
       "   dominance_sd  \n",
       "0          2.44  \n",
       "1          2.38  \n",
       "2          2.04  \n",
       "3          2.54  \n",
       "4          1.88  "
      ]
     },
     "execution_count": 3,
     "metadata": {},
     "output_type": "execute_result"
    }
   ],
   "source": [
    "df.head()"
   ]
  },
  {
   "cell_type": "code",
   "execution_count": 4,
   "metadata": {},
   "outputs": [],
   "source": [
    "df.set_index('word', inplace=True)\n",
    "rating_matrix = df.T.to_dict(orient='list')"
   ]
  },
  {
   "cell_type": "code",
   "execution_count": 10,
   "metadata": {},
   "outputs": [
    {
     "name": "stdout",
     "output_type": "stream",
     "text": [
      "[6.15, 1.66, 5.41, 1.6, 5.52, 1.5] zeal\n",
      "[5.45, 2.05, 4.29, 2.09, 5.04, 1.79] revere\n",
      "[2.11, 1.54, 5.65, 3.05, 4.92, 2.81] kill\n",
      "[2.49, 1.76, 5.69, 2.06, 3.57, 1.62] injury\n"
     ]
    }
   ],
   "source": [
    "words = ['zeal', 'revere', 'kill', 'injury']\n",
    "for word in words:\n",
    "    if word in rating_matrix:\n",
    "        print (rating_matrix[word], word)"
   ]
  },
  {
   "cell_type": "code",
   "execution_count": 7,
   "metadata": {},
   "outputs": [
    {
     "data": {
      "text/plain": [
       "valence         6.15\n",
       "valence_sd      1.66\n",
       "arousal         5.41\n",
       "arousal_sd      1.60\n",
       "dominance       5.52\n",
       "dominance_sd    1.50\n",
       "Name: zeal, dtype: float64"
      ]
     },
     "execution_count": 7,
     "metadata": {},
     "output_type": "execute_result"
    }
   ],
   "source": [
    "df.loc['zeal']"
   ]
  },
  {
   "cell_type": "code",
   "execution_count": null,
   "metadata": {},
   "outputs": [],
   "source": []
  }
 ],
 "metadata": {
  "kernelspec": {
   "display_name": "Python 3",
   "language": "python",
   "name": "python3"
  },
  "language_info": {
   "codemirror_mode": {
    "name": "ipython",
    "version": 3
   },
   "file_extension": ".py",
   "mimetype": "text/x-python",
   "name": "python",
   "nbconvert_exporter": "python",
   "pygments_lexer": "ipython3",
   "version": "3.5.5"
  }
 },
 "nbformat": 4,
 "nbformat_minor": 2
}
