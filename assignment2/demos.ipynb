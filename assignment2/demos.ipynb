{
 "cells": [
  {
   "cell_type": "code",
   "execution_count": 1,
   "metadata": {},
   "outputs": [],
   "source": [
    "# all imports\n",
    "%load_ext autoreload\n",
    "%autoreload 2\n",
    "from ngram_util import NGramModel"
   ]
  },
  {
   "cell_type": "markdown",
   "metadata": {},
   "source": [
    "### N Gram model sentence generation"
   ]
  },
  {
   "cell_type": "code",
   "execution_count": 2,
   "metadata": {},
   "outputs": [],
   "source": [
    "with open('corpus_ALL.txt', 'r', encoding='utf-8') as fh:\n",
    "    # change to corpus_train.txt for training on first 80% sentences\n",
    "    txt = fh.read()\n",
    "    \n",
    "corpus = txt.split(' ')\n",
    "n = 3 # the 'n' of n-gram\n",
    "\n",
    "# possible values of smoothing parameter : 'addone', 'goodturing', None (default)\n",
    "model_a1 = NGramModel(n, corpus, smoothing = 'addone')\n",
    "model_gt = NGramModel(n, corpus, smoothing = 'goodturing')\n",
    "model_none = NGramModel(n, corpus)\n",
    "model_a1.buildModels()\n",
    "model_gt.buildModels()\n",
    "model_none.buildModels()"
   ]
  },
  {
   "cell_type": "code",
   "execution_count": 3,
   "metadata": {},
   "outputs": [
    {
     "name": "stdout",
     "output_type": "stream",
     "text": [
      "Possible number of 3-grams is 3316600, observed number is 28967\n"
     ]
    }
   ],
   "source": [
    "# smoothing doesn't matter for this calculation\n",
    "a, b = model_gt.get_count_possible_and_actual_ngrams()\n",
    "print (\"Possible number of {}-grams is {}, observed number is {}\".format(n,a,b))"
   ]
  },
  {
   "cell_type": "code",
   "execution_count": 4,
   "metadata": {},
   "outputs": [
    {
     "name": "stdout",
     "output_type": "stream",
     "text": [
      "enough for it flashed across her mind that loose slate oh it s the queerest thing about it in her life it was for bringing the cook </s>\n",
      "do bats eat cats </s>\n",
      "whispered that it signifies much she said to herself because of his head </s>\n",
      "i d rather not the same as the things between whiles </s>\n",
      "be on the slate </s>\n"
     ]
    }
   ],
   "source": [
    "for i in range(5):\n",
    "    print (model_a1.generate_sentence())"
   ]
  },
  {
   "cell_type": "code",
   "execution_count": 6,
   "metadata": {},
   "outputs": [
    {
     "name": "stdout",
     "output_type": "stream",
     "text": [
      "alice said nothing </s>\n",
      "alice said very politely for i never was so large in the other </s>\n",
      "alice said nothing </s>\n",
      "alice said to the fifth bend i think you could see it trying in a voice sometimes choked with sobs to sing this beautiful soup </s>\n",
      "alice said nothing she had not a serpent </s>\n"
     ]
    }
   ],
   "source": [
    "for i in range(5):\n",
    "    print (model_gt.generate_sentence(start_words='alice said'))\n",
    "    # for n-gram model, provide n-1 words in one string in the start words parameter"
   ]
  },
  {
   "cell_type": "code",
   "execution_count": 7,
   "metadata": {},
   "outputs": [
    {
     "name": "stdout",
     "output_type": "stream",
     "text": [
      "round on its axis talking of axes said the caterpillar </s>\n",
      "shall think nothing of the sense and the roof was thatched with fur </s>\n",
      "crash now who did that it had in fact i didn t </s>\n",
      "why do you want to go from here </s>\n",
      "pool of tears curiouser and curiouser </s>\n",
      "woman and how she longed to get in </s>\n"
     ]
    }
   ],
   "source": [
    "for i in range(6):\n",
    "    print (model_none.generate_sentence())"
   ]
  },
  {
   "cell_type": "markdown",
   "metadata": {},
   "source": [
    "### perplexity of Good Turing vs. add one, on test corpus"
   ]
  },
  {
   "cell_type": "code",
   "execution_count": 12,
   "metadata": {},
   "outputs": [
    {
     "name": "stderr",
     "output_type": "stream",
     "text": [
      "/home/sigmaroles/proj/assignments_cs613/assignment2/ngram_util.py:121: RuntimeWarning: divide by zero encountered in double_scalars\n",
      "  return np.power((1/proba_sent), (1/N))\n",
      "/home/sigmaroles/proj/assignments_cs613/assignment2/ngram_util.py:121: RuntimeWarning: overflow encountered in double_scalars\n",
      "  return np.power((1/proba_sent), (1/N))\n",
      "/home/sigmaroles/proj/assignments_cs613/assignment2/ngram_util.py:96: RuntimeWarning: divide by zero encountered in log\n",
      "  return ret if not logspace else np.log(ret)\n"
     ]
    },
    {
     "ename": "ValueError",
     "evalue": "Single '}' encountered in format string",
     "output_type": "error",
     "traceback": [
      "\u001b[0;31m---------------------------------------------------------------------------\u001b[0m",
      "\u001b[0;31mValueError\u001b[0m                                Traceback (most recent call last)",
      "\u001b[0;32m<ipython-input-12-19494c1aea5e>\u001b[0m in \u001b[0;36m<module>\u001b[0;34m()\u001b[0m\n\u001b[1;32m     15\u001b[0m \u001b[0;34m\u001b[0m\u001b[0m\n\u001b[1;32m     16\u001b[0m \u001b[0;32mfor\u001b[0m \u001b[0mp_a1\u001b[0m\u001b[0;34m,\u001b[0m \u001b[0mp_gt\u001b[0m \u001b[0;32min\u001b[0m \u001b[0mzip\u001b[0m\u001b[0;34m(\u001b[0m\u001b[0mperp_addone\u001b[0m\u001b[0;34m,\u001b[0m \u001b[0mperp_gt\u001b[0m\u001b[0;34m)\u001b[0m\u001b[0;34m:\u001b[0m\u001b[0;34m\u001b[0m\u001b[0m\n\u001b[0;32m---> 17\u001b[0;31m     \u001b[0mprint\u001b[0m \u001b[0;34m(\u001b[0m\u001b[0;34m\"GT perplexity = {0:.3f}, addone perplexity = 1:.3f}\"\u001b[0m\u001b[0;34m.\u001b[0m\u001b[0mformat\u001b[0m\u001b[0;34m(\u001b[0m\u001b[0mp_a1\u001b[0m\u001b[0;34m,\u001b[0m \u001b[0mp_gt\u001b[0m\u001b[0;34m)\u001b[0m\u001b[0;34m)\u001b[0m\u001b[0;34m\u001b[0m\u001b[0m\n\u001b[0m",
      "\u001b[0;31mValueError\u001b[0m: Single '}' encountered in format string"
     ]
    }
   ],
   "source": [
    "with open('corpus_train.txt', 'r', encoding='utf-8') as fh:\n",
    "    train_txt = fh.read()\n",
    "train_corpus = train_txt.split(' ')\n",
    "with open('corpus_test.txt', 'r', encoding='utf-8') as fh:\n",
    "    test_txt = fh.read()\n",
    "test_sentences = list(map(lambda x:x.strip(), test_txt.split('</s>')))\n",
    "\n",
    "m_gt = NGramModel(2,train_corpus, smoothing='goodturing')\n",
    "m_gt.buildModels()\n",
    "m_addone = NGramModel(2,train_corpus, smoothing='addone')\n",
    "m_addone.buildModels()\n",
    "\n",
    "perp_addone = [m_addone.get_perplexity(sent) for sent in test_sentences]\n",
    "perp_gt = [m_gt.get_perplexity(sent) for sent in test_sentences]\n",
    "\n",
    "for p_a1, p_gt in zip(perp_addone, perp_gt):\n",
    "    print (\"GT perplexity = {0:.3f}, addone perplexity = {1:.3f}\".format(p_a1, p_gt))"
   ]
  },
  {
   "cell_type": "code",
   "execution_count": null,
   "metadata": {},
   "outputs": [],
   "source": []
  }
 ],
 "metadata": {
  "kernelspec": {
   "display_name": "Python 3",
   "language": "python",
   "name": "python3"
  },
  "language_info": {
   "codemirror_mode": {
    "name": "ipython",
    "version": 3
   },
   "file_extension": ".py",
   "mimetype": "text/x-python",
   "name": "python",
   "nbconvert_exporter": "python",
   "pygments_lexer": "ipython3",
   "version": "3.5.5"
  }
 },
 "nbformat": 4,
 "nbformat_minor": 2
}
