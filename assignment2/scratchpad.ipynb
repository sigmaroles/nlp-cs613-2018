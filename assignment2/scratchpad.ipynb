{
 "cells": [
  {
   "cell_type": "code",
   "execution_count": 1,
   "metadata": {},
   "outputs": [],
   "source": [
    "%load_ext autoreload\n",
    "%autoreload 2\n",
    "from ngram_util import NGramModel\n",
    "import numpy as np"
   ]
  },
  {
   "cell_type": "code",
   "execution_count": 61,
   "metadata": {},
   "outputs": [],
   "source": [
    "with open('corpus.txt', 'r', encoding='utf-8') as fh:\n",
    "    tt = fh.read()\n",
    "    \n",
    "corpus = tt.split(' ')"
   ]
  },
  {
   "cell_type": "code",
   "execution_count": 68,
   "metadata": {},
   "outputs": [],
   "source": [
    "m1 = NGramModel(3,corpus)\n",
    "m1.buildModels()"
   ]
  },
  {
   "cell_type": "code",
   "execution_count": 69,
   "metadata": {},
   "outputs": [
    {
     "name": "stdout",
     "output_type": "stream",
     "text": [
      "fight was over.\n",
      "figure said the queen put on her face and large eyes like a wild beast screamed off with her face with such a curious dream dear certainly but now that i breathe when i breathe”.\n",
      "glad that it signifies much she said for about the reason is said the eaglet bent down its head down and began in a trembling voice and alice looked round also and all the rest of the guinea pigs who were lying round the neck of the thing at all.\n",
      "nursing her child again singing a sort of chance of getting her hands and was going to happen next.\n",
      "at school at once.\n",
      "blacking i believe so alice soon began talking again.\n",
      "have any pepper in my life.\n",
      "had now had its full effect and she kept fanning herself all the things between whiles.\n",
      "with pink eyes ran close by her sister sat still just as the large birds complained that they couldn t answer either question it didn t know that cheshire cats always grinned in fact she was considering in her haste she had quite forgotten the duchess and that s why.\n",
      "we indeed.\n"
     ]
    }
   ],
   "source": [
    "for _ in range(10):\n",
    "    print (m1.generate_sentence())"
   ]
  },
  {
   "cell_type": "code",
   "execution_count": 70,
   "metadata": {
    "scrolled": true
   },
   "outputs": [
    {
     "name": "stdout",
     "output_type": "stream",
     "text": [
      "thought alice thought she said alice.\n",
      "thought alice knew the distant green leaves and began.\n",
      "thought alice s first to fancy who am i never come on the world she set to be beheaded.\n",
      "thought alice quietly said the morning but i can say again.\n",
      "thought alice and then alice again.\n",
      "thought alice had made the brain but she set dinah if you though still sobbing of the blades of.\n",
      "thought alice crouched down on eagerly for alice in the rattling in a little white rabbit in the lizard who would get in with a book shelves here the other and pepper that she tipped over and under sentence of rules in large cauldron of hearts she listened or two little golden.\n",
      "thought alice quite as we put on his shoes under the insolence of this last word two people knew she tried hedges the rabbit but her if she might as he.\n",
      "thought alice went on which he did.\n",
      "thought alice thought alice could see as large again.\n"
     ]
    }
   ],
   "source": [
    "for _ in range(10):\n",
    "    print (m1.generate_sentence(start_words='thought alice'))"
   ]
  },
  {
   "cell_type": "code",
   "execution_count": null,
   "metadata": {},
   "outputs": [],
   "source": []
  }
 ],
 "metadata": {
  "kernelspec": {
   "display_name": "Python 3",
   "language": "python",
   "name": "python3"
  },
  "language_info": {
   "codemirror_mode": {
    "name": "ipython",
    "version": 3
   },
   "file_extension": ".py",
   "mimetype": "text/x-python",
   "name": "python",
   "nbconvert_exporter": "python",
   "pygments_lexer": "ipython3",
   "version": "3.5.5"
  }
 },
 "nbformat": 4,
 "nbformat_minor": 2
}
