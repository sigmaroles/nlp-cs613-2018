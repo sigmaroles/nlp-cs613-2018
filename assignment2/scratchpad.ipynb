{
 "cells": [
  {
   "cell_type": "code",
   "execution_count": 1,
   "metadata": {},
   "outputs": [],
   "source": [
    "%load_ext autoreload\n",
    "%autoreload 2\n",
    "from ngram_util import NGramModel\n",
    "import numpy as np"
   ]
  },
  {
   "cell_type": "code",
   "execution_count": 2,
   "metadata": {},
   "outputs": [],
   "source": [
    "with open('corpus.txt', 'r', encoding='utf-8') as fh:\n",
    "    tt = fh.read()\n",
    "    \n",
    "corpus = tt.split(' ')"
   ]
  },
  {
   "cell_type": "code",
   "execution_count": 3,
   "metadata": {},
   "outputs": [],
   "source": [
    "m1 = NGramModel(2,corpus)\n",
    "m1.buildModels()"
   ]
  },
  {
   "cell_type": "code",
   "execution_count": 4,
   "metadata": {},
   "outputs": [
    {
     "data": {
      "text/plain": [
       "0.2857142857142857"
      ]
     },
     "execution_count": 4,
     "metadata": {},
     "output_type": "execute_result"
    }
   ],
   "source": [
    "m1.get_proba('deep voice')"
   ]
  },
  {
   "cell_type": "code",
   "execution_count": 18,
   "metadata": {},
   "outputs": [
    {
     "name": "stdout",
     "output_type": "stream",
     "text": [
      " will some way being such nonsense i could not. who it had never said the arch i ve had slipped in an offended it in that s rather sleepy and she was going messages for such a footman and in the officer could. stupid things at the queen furiously throwing an angry voice. it watched the proposal. then turned crimson with one bill. shall have called out silence. always hated cats eat or two little bit hurt and growing too that. said cunning old fellow. oh my limbs very politely did not to the book rule you couldn t be hungry to leave off you how large one hand in her wonderful adventures first at them and so you re dreadfully savage. the choking of the thimble and if you know she had to say anything but it is over her life."
     ]
    }
   ],
   "source": [
    "for i in range(10):\n",
    "    s1 = m1.generate_sentence()\n",
    "    s1 = ' '.join(s1).replace(' </s>', '.')\n",
    "    print (' '+s1, end=\"\")"
   ]
  },
  {
   "cell_type": "code",
   "execution_count": 19,
   "metadata": {},
   "outputs": [
    {
     "name": "stdout",
     "output_type": "stream",
     "text": [
      " we shall remember feeling very melancholy tone it right size to get what they re trying to alice all about four inches high and how could see a deep and near the little pattering of what are they were all know. there s right i ve often read fairy tales i don t look of the frog or you re talking dear. said it was the right said alice she had you grow large eyes and so small she went down her face and feebly stretching out the act of the march hare went on you or twice set to tell him with the hatter i was that you ask them attempted the sort of the executioner myself said the time it hastily put it ll do you can go through the use as politely feeling at once in a little magic bottle was certainly english. so alice went on with a hint to her to nurse it hastily put a conversation. how puzzling question was not looking down both his sleep that was only things as she tipped over his belt and dishes crashed around her full effect and called out under the duchess said alice sharply. after these changes are the right hand and taking not dare say if i might injure the sea of his mouth but to one for asking riddles that it s no that is the rabbit and one but very nearly carried it had been reading but i ve fallen into edwin and it while she was not possibly reach half down here that alice. cried alice. there they in the hatter with some alarm."
     ]
    }
   ],
   "source": [
    "for i in range(10):\n",
    "    s1 = m1.generate_sentence()\n",
    "    s1 = ' '.join(s1).replace(' </s>', '.')\n",
    "    print (' '+s1, end=\"\")"
   ]
  },
  {
   "cell_type": "code",
   "execution_count": 20,
   "metadata": {},
   "outputs": [
    {
     "name": "stdout",
     "output_type": "stream",
     "text": [
      " i shall. said the conversation of the garden with and most uncommonly fat yet. there s voice. the country is. said alice had just as it went on the words and the queen pointing to one who seemed to begin with great surprise when i ve often read fairy tales i m a little recovered his business. the door she drew herself after her full of the dormouse shall think it. the end of late. soles and there s such a pity it said nothing being alive. i m afraid i ll be two ” how is to go said the right to say. and when i m not got down the others."
     ]
    }
   ],
   "source": [
    "for i in range(10):\n",
    "    s1 = m1.generate_sentence()\n",
    "    s1 = ' '.join(s1).replace(' </s>', '.')\n",
    "    print (' '+s1, end=\"\")"
   ]
  },
  {
   "cell_type": "code",
   "execution_count": null,
   "metadata": {},
   "outputs": [],
   "source": []
  }
 ],
 "metadata": {
  "kernelspec": {
   "display_name": "Python 3",
   "language": "python",
   "name": "python3"
  },
  "language_info": {
   "codemirror_mode": {
    "name": "ipython",
    "version": 3
   },
   "file_extension": ".py",
   "mimetype": "text/x-python",
   "name": "python",
   "nbconvert_exporter": "python",
   "pygments_lexer": "ipython3",
   "version": "3.5.5"
  }
 },
 "nbformat": 4,
 "nbformat_minor": 2
}
