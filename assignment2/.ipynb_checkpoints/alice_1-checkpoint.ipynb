{
 "cells": [
  {
   "cell_type": "code",
   "execution_count": 1,
   "metadata": {},
   "outputs": [],
   "source": [
    "from nltk.tokenize import sent_tokenize"
   ]
  },
  {
   "cell_type": "code",
   "execution_count": 2,
   "metadata": {},
   "outputs": [],
   "source": [
    "with open('alice_wonderland.txt', 'r', encoding='utf-8') as fh:\n",
    "    alltext = fh.read()"
   ]
  },
  {
   "cell_type": "code",
   "execution_count": 3,
   "metadata": {},
   "outputs": [
    {
     "data": {
      "text/plain": [
       "144434"
      ]
     },
     "execution_count": 3,
     "metadata": {},
     "output_type": "execute_result"
    }
   ],
   "source": [
    "len(alltext)"
   ]
  },
  {
   "cell_type": "code",
   "execution_count": 4,
   "metadata": {},
   "outputs": [],
   "source": [
    "sents = sent_tokenize(alltext)"
   ]
  },
  {
   "cell_type": "code",
   "execution_count": 5,
   "metadata": {},
   "outputs": [
    {
     "data": {
      "text/plain": [
       "977"
      ]
     },
     "execution_count": 5,
     "metadata": {},
     "output_type": "execute_result"
    }
   ],
   "source": [
    "len(sents)"
   ]
  },
  {
   "cell_type": "code",
   "execution_count": 6,
   "metadata": {},
   "outputs": [
    {
     "data": {
      "text/plain": [
       "'There was nothing else to do, so Alice soon began\\ntalking again.'"
      ]
     },
     "execution_count": 6,
     "metadata": {},
     "output_type": "execute_result"
    }
   ],
   "source": [
    "sents[26]"
   ]
  },
  {
   "cell_type": "code",
   "execution_count": 9,
   "metadata": {},
   "outputs": [
    {
     "name": "stdout",
     "output_type": "stream",
     "text": [
      "I wish you were down here with me!###\n",
      "There are no\n",
      "mice in the air, I’m afraid, but you might catch a bat, and that’s very\n",
      "like a mouse, you know.###\n",
      "But do cats eat bats, I wonder?’ And here Alice\n",
      "began to get rather sleepy, and went on saying to herself, in a dreamy\n",
      "sort of way, ‘Do cats eat bats?###\n",
      "Do cats eat bats?’ and sometimes, ‘Do\n",
      "bats eat cats?’ for, you see, as she couldn’t answer either question,\n",
      "it didn’t much matter which way she put it.###\n",
      "She felt that she was dozing\n",
      "off, and had just begun to dream that she was walking hand in hand with\n",
      "Dinah, and saying to her very earnestly, ‘Now, Dinah, tell me the truth:\n",
      "did you ever eat a bat?’ when suddenly, thump!###\n",
      "thump!###\n",
      "down she came upon\n",
      "a heap of sticks and dry leaves, and the fall was over.###\n",
      "Alice was not a bit hurt, and she jumped up on to her feet in a moment:\n",
      "she looked up, but it was all dark overhead; before her was another\n",
      "long passage, and the White Rabbit was still in sight, hurrying down it.###\n",
      "There was not a moment to be lost: away went Alice like the wind, and\n",
      "was just in time to hear it say, as it turned a corner, ‘Oh my ears\n",
      "and whiskers, how late it’s getting!’ She was close behind it when she\n",
      "turned the corner, but the Rabbit was no longer to be seen: she found\n",
      "herself in a long, low hall, which was lit up by a row of lamps hanging\n",
      "from the roof.###\n",
      "There were doors all round the hall, but they were all locked; and when\n",
      "Alice had been all the way down one side and up the other, trying every\n",
      "door, she walked sadly down the middle, wondering how she was ever to\n",
      "get out again.###\n"
     ]
    }
   ],
   "source": [
    "for sent in sents[30:40]:\n",
    "    print (sent + \"###\")"
   ]
  },
  {
   "cell_type": "code",
   "execution_count": null,
   "metadata": {},
   "outputs": [],
   "source": []
  }
 ],
 "metadata": {
  "kernelspec": {
   "display_name": "Python 3",
   "language": "python",
   "name": "python3"
  },
  "language_info": {
   "codemirror_mode": {
    "name": "ipython",
    "version": 3
   },
   "file_extension": ".py",
   "mimetype": "text/x-python",
   "name": "python",
   "nbconvert_exporter": "python",
   "pygments_lexer": "ipython3",
   "version": "3.5.5"
  }
 },
 "nbformat": 4,
 "nbformat_minor": 2
}
