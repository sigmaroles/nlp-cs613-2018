{
 "cells": [
  {
   "cell_type": "code",
   "execution_count": 1,
   "metadata": {},
   "outputs": [],
   "source": [
    "from nltk.tokenize import sent_tokenize\n",
    "import string"
   ]
  },
  {
   "cell_type": "code",
   "execution_count": 2,
   "metadata": {},
   "outputs": [],
   "source": [
    "with open('alice_wonderland.txt', 'r', encoding='utf-8') as fh:\n",
    "    alltext = fh.read()"
   ]
  },
  {
   "cell_type": "code",
   "execution_count": 3,
   "metadata": {},
   "outputs": [],
   "source": [
    "cleaned_text = alltext.lower()\n",
    "cleaned_text = cleaned_text.translate({ord('\\n'):' ', \n",
    "                                  ord('\\\"'):' ', \n",
    "                                  ord('’'):' ',\n",
    "                                  ord('‘'):' ',    \n",
    "                                  ord('\\''):' ',\n",
    "                                  ord('“'):' '\n",
    "                                 })\n",
    "\n",
    "\n",
    "sents = sent_tokenize(cleaned_text)\n",
    "\n",
    "# 1. replace punctuations with spaces\n",
    "# 2. add sentence end markers\n",
    "translator = str.maketrans(string.punctuation, ' '*len(string.punctuation))\n",
    "sents = [x for x in map(lambda x: x.translate(translator).strip(), sents)]\n",
    "sents = [x for x in map(lambda x: x + ' </s>', sents)]"
   ]
  },
  {
   "cell_type": "code",
   "execution_count": 14,
   "metadata": {},
   "outputs": [],
   "source": [
    "import numpy as np"
   ]
  },
  {
   "cell_type": "code",
   "execution_count": 16,
   "metadata": {
    "scrolled": true
   },
   "outputs": [],
   "source": [
    "sents = np.array(sents)"
   ]
  },
  {
   "cell_type": "code",
   "execution_count": 25,
   "metadata": {},
   "outputs": [],
   "source": [
    "train_sents = np.random.choice(sents, size=int(0.8 * len(sents)), replace=False)\n",
    "test_sents = np.random.choice(sents, size=int(0.2 * len(sents)), replace=False)\n"
   ]
  },
  {
   "cell_type": "code",
   "execution_count": 26,
   "metadata": {},
   "outputs": [
    {
     "data": {
      "text/plain": [
       "((1279,), (319,), (1599,))"
      ]
     },
     "execution_count": 26,
     "metadata": {},
     "output_type": "execute_result"
    }
   ],
   "source": [
    "train_sents.shape, test_sents.shape, sents.shape"
   ]
  },
  {
   "cell_type": "code",
   "execution_count": 27,
   "metadata": {},
   "outputs": [
    {
     "data": {
      "text/plain": [
       "('said the mock turtle </s>', 'yes  please do </s>')"
      ]
     },
     "execution_count": 27,
     "metadata": {},
     "output_type": "execute_result"
    }
   ],
   "source": [
    "train_sents[3], test_sents[3]"
   ]
  },
  {
   "cell_type": "code",
   "execution_count": 42,
   "metadata": {},
   "outputs": [],
   "source": [
    "corpus = []\n",
    "for x in filter(lambda x: len(x)>0, [x.split() for x in test_sents]):\n",
    "    corpus.extend(x)"
   ]
  },
  {
   "cell_type": "code",
   "execution_count": 45,
   "metadata": {},
   "outputs": [
    {
     "data": {
      "text/plain": [
       "['with',\n",
       " 'a',\n",
       " 'sudden',\n",
       " 'burst',\n",
       " 'of',\n",
       " 'tears',\n",
       " 'i',\n",
       " 'do',\n",
       " 'wish',\n",
       " 'they',\n",
       " 'would',\n",
       " 'put',\n",
       " 'their',\n",
       " 'heads',\n",
       " 'down',\n",
       " '</s>',\n",
       " 'i',\n",
       " 'think',\n",
       " 'i',\n",
       " 'could']"
      ]
     },
     "execution_count": 45,
     "metadata": {},
     "output_type": "execute_result"
    }
   ],
   "source": [
    "corpus[60:80]"
   ]
  },
  {
   "cell_type": "code",
   "execution_count": null,
   "metadata": {},
   "outputs": [],
   "source": []
  }
 ],
 "metadata": {
  "kernelspec": {
   "display_name": "Python 3",
   "language": "python",
   "name": "python3"
  },
  "language_info": {
   "codemirror_mode": {
    "name": "ipython",
    "version": 3
   },
   "file_extension": ".py",
   "mimetype": "text/x-python",
   "name": "python",
   "nbconvert_exporter": "python",
   "pygments_lexer": "ipython3",
   "version": "3.5.5"
  }
 },
 "nbformat": 4,
 "nbformat_minor": 2
}
