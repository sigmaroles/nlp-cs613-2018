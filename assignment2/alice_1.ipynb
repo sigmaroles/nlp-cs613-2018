{
 "cells": [
  {
   "cell_type": "code",
   "execution_count": 1,
   "metadata": {},
   "outputs": [],
   "source": [
    "from nltk.tokenize import sent_tokenize\n",
    "from collections import Counter\n",
    "import string"
   ]
  },
  {
   "cell_type": "code",
   "execution_count": 2,
   "metadata": {},
   "outputs": [],
   "source": [
    "with open('alice_wonderland.txt', 'r', encoding='utf-8') as fh:\n",
    "    alltext = fh.read()\n",
    "cleaned_text = alltext.lower()"
   ]
  },
  {
   "cell_type": "code",
   "execution_count": 3,
   "metadata": {},
   "outputs": [],
   "source": [
    "cleaned_text = cleaned_text.translate({ord('\\n'):' ', \n",
    "                                  ord('\\\"'):'', \n",
    "                                  ord('’'):'',\n",
    "                                  ord('‘'):'',    \n",
    "                                  ord('\\''):''\n",
    "                                 })"
   ]
  },
  {
   "cell_type": "code",
   "execution_count": 4,
   "metadata": {},
   "outputs": [],
   "source": [
    "sents = sent_tokenize(cleaned_text)"
   ]
  },
  {
   "cell_type": "code",
   "execution_count": 5,
   "metadata": {},
   "outputs": [],
   "source": [
    "# now that we have obtained sentences, apply \"cleaning\" transformations: \n",
    "# 1. remove punctuations\n",
    "# 2. add sentence start and end markers\n",
    "translator = str.maketrans('', '', string.punctuation)\n",
    "sents = [x for x in map(lambda x: x.translate(translator), sents)]\n",
    "sents = [x for x in map(lambda x: x + ' </s>', sents)]\n"
   ]
  },
  {
   "cell_type": "code",
   "execution_count": 6,
   "metadata": {},
   "outputs": [
    {
     "data": {
      "text/plain": [
       "2834"
      ]
     },
     "execution_count": 6,
     "metadata": {},
     "output_type": "execute_result"
    }
   ],
   "source": [
    "all_tokens = []\n",
    "for sent in sents:\n",
    "    thiswords = [x for x in filter(lambda x: len(x)>0, sent.split(' '))]\n",
    "    all_tokens.extend(thiswords)\n",
    "\n",
    "all_types = set(all_tokens)\n",
    "len(all_types)"
   ]
  },
  {
   "cell_type": "code",
   "execution_count": 7,
   "metadata": {},
   "outputs": [
    {
     "data": {
      "text/plain": [
       "[(('said', 'the'), 209),\n",
       " (('of', 'the'), 130),\n",
       " (('</s>', 'i'), 117),\n",
       " (('</s>', 'the'), 116),\n",
       " (('said', 'alice'), 115),\n",
       " (('</s>', 'said'), 109),\n",
       " (('in', 'a'), 97),\n",
       " (('</s>', 'alice'), 81),\n",
       " (('and', 'the'), 80),\n",
       " (('in', 'the'), 78),\n",
       " (('it', 'was'), 74),\n",
       " (('to', 'the'), 69),\n",
       " (('</s>', 'and'), 68),\n",
       " (('the', 'queen'), 65),\n",
       " (('as', 'she'), 61),\n",
       " (('the', 'king'), 60),\n",
       " (('at', 'the'), 60),\n",
       " (('she', 'had'), 60),\n",
       " (('alice', '</s>'), 59),\n",
       " (('a', 'little'), 59)]"
      ]
     },
     "execution_count": 7,
     "metadata": {},
     "output_type": "execute_result"
    }
   ],
   "source": [
    "bigrams = [(all_tokens[i], all_tokens[i+1]) for i in range(len(all_tokens)-1)]\n",
    "count = Counter(bigrams)\n",
    "count.most_common(20)"
   ]
  },
  {
   "cell_type": "code",
   "execution_count": null,
   "metadata": {},
   "outputs": [],
   "source": []
  },
  {
   "cell_type": "code",
   "execution_count": null,
   "metadata": {},
   "outputs": [],
   "source": []
  },
  {
   "cell_type": "code",
   "execution_count": null,
   "metadata": {},
   "outputs": [],
   "source": []
  }
 ],
 "metadata": {
  "kernelspec": {
   "display_name": "Python 3",
   "language": "python",
   "name": "python3"
  },
  "language_info": {
   "codemirror_mode": {
    "name": "ipython",
    "version": 3
   },
   "file_extension": ".py",
   "mimetype": "text/x-python",
   "name": "python",
   "nbconvert_exporter": "python",
   "pygments_lexer": "ipython3",
   "version": "3.5.5"
  }
 },
 "nbformat": 4,
 "nbformat_minor": 2
}
